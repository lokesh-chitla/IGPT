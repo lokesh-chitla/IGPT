{
 "cells": [
  {
   "cell_type": "code",
   "execution_count": 1,
   "id": "20cf768f-8bbf-46ef-8e12-81092e1df252",
   "metadata": {},
   "outputs": [
    {
     "name": "stdout",
     "output_type": "stream",
     "text": [
      "Requirement already satisfied: flask in c:\\users\\pods\\anaconda3\\lib\\site-packages (3.0.3)\n",
      "Requirement already satisfied: Werkzeug>=3.0.0 in c:\\users\\pods\\anaconda3\\lib\\site-packages (from flask) (3.0.3)\n",
      "Requirement already satisfied: Jinja2>=3.1.2 in c:\\users\\pods\\anaconda3\\lib\\site-packages (from flask) (3.1.4)\n",
      "Requirement already satisfied: itsdangerous>=2.1.2 in c:\\users\\pods\\anaconda3\\lib\\site-packages (from flask) (2.2.0)\n",
      "Requirement already satisfied: click>=8.1.3 in c:\\users\\pods\\anaconda3\\lib\\site-packages (from flask) (8.1.7)\n",
      "Requirement already satisfied: blinker>=1.6.2 in c:\\users\\pods\\anaconda3\\lib\\site-packages (from flask) (1.6.2)\n",
      "Requirement already satisfied: colorama in c:\\users\\pods\\anaconda3\\lib\\site-packages (from click>=8.1.3->flask) (0.4.6)\n",
      "Requirement already satisfied: MarkupSafe>=2.0 in c:\\users\\pods\\anaconda3\\lib\\site-packages (from Jinja2>=3.1.2->flask) (2.1.3)\n"
     ]
    }
   ],
   "source": [
    "!pip install flask"
   ]
  },
  {
   "cell_type": "code",
   "execution_count": 2,
   "id": "779e5170-e361-4f55-a673-ad4c232e3ee3",
   "metadata": {},
   "outputs": [
    {
     "name": "stdout",
     "output_type": "stream",
     "text": [
      " * Serving Flask app '__main__'\n",
      " * Debug mode: off\n"
     ]
    },
    {
     "name": "stderr",
     "output_type": "stream",
     "text": [
      "WARNING: This is a development server. Do not use it in a production deployment. Use a production WSGI server instead.\n",
      " * Running on http://localhost:8081\n",
      "Press CTRL+C to quit\n"
     ]
    }
   ],
   "source": [
    "from flask import Flask, request, jsonify\n",
    "import json\n",
    "import threading\n",
    "from flask_cors import CORS\n",
    "\n",
    "app = Flask(__name__)\n",
    "CORS(app)  # Enable Cross-Origin Resource Sharing\n",
    "\n",
    "with open(\"wiki_data.json\", \"r\", encoding=\"utf-8\") as f:\n",
    "    wiki_data = json.load(f)\n",
    "\n",
    "@app.route(\"/query\", methods=[\"GET\"])\n",
    "def query_wiki():\n",
    "    query = request.args.get(\"q\", \"\").strip().lower()\n",
    "    if not query:\n",
    "        return jsonify([])\n",
    "\n",
    "    results = [\n",
    "        entry for entry in wiki_data\n",
    "        if (entry.get(\"Title\") and query in entry[\"Title\"].lower()) or\n",
    "           (entry.get(\"Abstract\") and query in entry[\"Abstract\"].lower())\n",
    "    ]\n",
    "\n",
    "    return jsonify(results[:1])  # Limit to 1 results\n",
    "\n",
    "def run_flask():\n",
    "    app.run(host=\"localhost\", port=8081, debug=False, use_reloader=False)\n",
    "\n",
    "# Run Flask in a separate thread\n",
    "flask_thread = threading.Thread(target=run_flask)\n",
    "flask_thread.start()\n"
   ]
  },
  {
   "cell_type": "code",
   "execution_count": 3,
   "id": "b963f3db-4150-41aa-8bef-691d2e8a46ba",
   "metadata": {},
   "outputs": [
    {
     "name": "stderr",
     "output_type": "stream",
     "text": [
      "127.0.0.1 - - [10/Feb/2025 01:47:53] \"GET /query?q=Paris HTTP/1.1\" 200 -\n"
     ]
    },
    {
     "name": "stdout",
     "output_type": "stream",
     "text": [
      "[{'Abstract': 'An American in Paris is a jazz-influenced symphonic poem (or tone poem) for orchestra by American composer George Gershwin first performed in 1928. It was inspired by the time that Gershwin had spent in Paris and evokes the sights and energy of the French capital during the .', 'Title': 'Wikipedia: An American in Paris'}]\n"
     ]
    }
   ],
   "source": [
    "import requests\n",
    "\n",
    "query = \"Paris\"\n",
    "response = requests.get(f\"http://localhost:8081/query?q={query}\")\n",
    "\n",
    "if response.status_code == 200:\n",
    "    print(response.json())\n",
    "else:\n",
    "    print(\"Error:\", response.status_code)\n"
   ]
  },
  {
   "cell_type": "code",
   "execution_count": null,
   "id": "44e3274f-b23d-4144-9aef-9073415f7e99",
   "metadata": {},
   "outputs": [],
   "source": []
  }
 ],
 "metadata": {
  "kernelspec": {
   "display_name": "Python 3 (ipykernel)",
   "language": "python",
   "name": "python3"
  },
  "language_info": {
   "codemirror_mode": {
    "name": "ipython",
    "version": 3
   },
   "file_extension": ".py",
   "mimetype": "text/x-python",
   "name": "python",
   "nbconvert_exporter": "python",
   "pygments_lexer": "ipython3",
   "version": "3.12.7"
  }
 },
 "nbformat": 4,
 "nbformat_minor": 5
}
