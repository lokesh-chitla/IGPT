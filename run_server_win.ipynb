{
 "cells": [
  {
   "cell_type": "markdown",
   "id": "6cc7b444-1728-4242-8fe3-51fcbf4c0273",
   "metadata": {},
   "source": [
    "<h4>Start the Server</h4>"
   ]
  },
  {
   "cell_type": "code",
   "execution_count": 1,
   "id": "6eef655e-50d0-49f8-ad57-74282497ec35",
   "metadata": {},
   "outputs": [
    {
     "name": "stdout",
     "output_type": "stream",
     "text": [
      "Serving at http://localhost:8080\n"
     ]
    },
    {
     "name": "stderr",
     "output_type": "stream",
     "text": [
      "127.0.0.1 - - [09/Feb/2025 23:39:59] code 404, message File not found\n",
      "127.0.0.1 - - [09/Feb/2025 23:39:59] \"GET /favicon.ico HTTP/1.1\" 404 -\n"
     ]
    },
    {
     "name": "stdout",
     "output_type": "stream",
     "text": [
      "Server is running in the background. To stop, use `shutdown_server()` in another cell.\n"
     ]
    }
   ],
   "source": [
    "import http.server\n",
    "import socketserver\n",
    "import threading\n",
    "import socket\n",
    "import time\n",
    "from IPython.display import display, HTML\n",
    "\n",
    "PORT = 8080\n",
    "DIRECTORY = \".\"\n",
    "httpd = None  # Define globally\n",
    "\n",
    "# Check if port is available\n",
    "def is_port_available(port):\n",
    "    with socket.socket(socket.AF_INET, socket.SOCK_STREAM) as s:\n",
    "        return s.connect_ex((\"localhost\", port)) != 0\n",
    "\n",
    "if not is_port_available(PORT):\n",
    "    print(f\"Port {PORT} is already in use. Choose another port.\")\n",
    "else:\n",
    "    class CustomHandler(http.server.SimpleHTTPRequestHandler):\n",
    "        def __init__(self, *args, directory=DIRECTORY, **kwargs):\n",
    "            super().__init__(*args, directory=directory, **kwargs)\n",
    "\n",
    "        def do_GET(self):\n",
    "            \"\"\"Serve index.html by default instead of directory listing.\"\"\"\n",
    "            if self.path == \"/\":\n",
    "                self.path = \"/index.html\"  # Redirect root to index.html\n",
    "            return super().do_GET()\n",
    "\n",
    "    # Function to run the server in a thread\n",
    "    def run_server():\n",
    "        global httpd\n",
    "        with socketserver.ThreadingTCPServer((\"\", PORT), CustomHandler) as httpd:\n",
    "            print(f\"Serving at http://localhost:{PORT}\")\n",
    "            httpd.serve_forever()\n",
    "\n",
    "    # Start the server in a background thread\n",
    "    server_thread = threading.Thread(target=run_server, daemon=True)\n",
    "    server_thread.start()\n",
    "\n",
    "    # Wait briefly to ensure the server starts\n",
    "    time.sleep(2)\n",
    "\n",
    "    # Show a clickable link\n",
    "    display(HTML(f'<a href=\"http://localhost:{PORT}/index.html\" target=\"_blank\">Open Server</a>'))\n",
    "\n",
    "    print(\"Server is running in the background.\")\n"
   ]
  },
  {
   "cell_type": "markdown",
   "id": "0271fbfd-fa37-477d-a1d3-eec32d6e1c9a",
   "metadata": {},
   "source": [
    "<h4>Stop the Server</h4>"
   ]
  },
  {
   "cell_type": "code",
   "execution_count": null,
   "id": "9de1062d-6ae0-44a5-809c-69c03aa4e8db",
   "metadata": {},
   "outputs": [],
   "source": [
    "def shutdown_server():\n",
    "    global httpd\n",
    "    if httpd:\n",
    "        print(\"Shutting down the server...\")\n",
    "        httpd.shutdown()\n",
    "        print(\"Server stopped.\")\n",
    "    else:\n",
    "        print(\"Server is not running.\")\n",
    "\n",
    "shutdown_server()\n"
   ]
  }
 ],
 "metadata": {
  "kernelspec": {
   "display_name": "Python 3 (ipykernel)",
   "language": "python",
   "name": "python3"
  },
  "language_info": {
   "codemirror_mode": {
    "name": "ipython",
    "version": 3
   },
   "file_extension": ".py",
   "mimetype": "text/x-python",
   "name": "python",
   "nbconvert_exporter": "python",
   "pygments_lexer": "ipython3",
   "version": "3.12.7"
  }
 },
 "nbformat": 4,
 "nbformat_minor": 5
}
